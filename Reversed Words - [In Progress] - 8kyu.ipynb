{
 "cells": [
  {
   "cell_type": "markdown",
   "metadata": {},
   "source": [
    "### Reversed Words\n",
    "https://www.codewars.com/kata/51c8991dee245d7ddf00000e/train/python\n",
    "\n",
    "Complete the solution so that it reverses all of the words within the string passed in.\n",
    "\n",
    "Example:\n",
    "```\n",
    "reverseWords(\"The greatest victory is that which requires no battle\")\n",
    "// should return \"battle no requires which that is victory greatest The\"\n",
    "```\n",
    "\n",
    "Tags: Algorithms Strings"
   ]
  },
  {
   "cell_type": "code",
   "execution_count": 25,
   "metadata": {},
   "outputs": [
    {
     "data": {
      "text/plain": [
       "'battle no requires which that is victory greatest The'"
      ]
     },
     "execution_count": 25,
     "metadata": {},
     "output_type": "execute_result"
    }
   ],
   "source": [
    "def reverse_words(string):\n",
    "    l = string.split(' ')\n",
    "    l.reverse()\n",
    "    string = ' '.join(l)\n",
    "    return string\n",
    "\n",
    "reverse_words(\"The greatest victory is that which requires no battle\")"
   ]
  },
  {
   "cell_type": "code",
   "execution_count": 3,
   "metadata": {},
   "outputs": [],
   "source": [
    "class test:\n",
    "    def assert_equals(a, b):\n",
    "        if a == b: return True\n",
    "\n",
    "test.assert_equals(reverseWords(\"hello world!\"), \"world! hello\")"
   ]
  }
 ],
 "metadata": {
  "kernelspec": {
   "display_name": "Python 3",
   "language": "python",
   "name": "python3"
  },
  "language_info": {
   "codemirror_mode": {
    "name": "ipython",
    "version": 3
   },
   "file_extension": ".py",
   "mimetype": "text/x-python",
   "name": "python",
   "nbconvert_exporter": "python",
   "pygments_lexer": "ipython3",
   "version": "3.7.2"
  }
 },
 "nbformat": 4,
 "nbformat_minor": 2
}
