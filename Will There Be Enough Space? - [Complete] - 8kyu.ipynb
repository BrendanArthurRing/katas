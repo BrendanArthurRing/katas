{
 "cells": [
  {
   "cell_type": "markdown",
   "metadata": {},
   "source": [
    "### The Story:\n",
    "https://www.codewars.com/kata/5875b200d520904a04000003/train/python\n",
    "\n",
    "Bob is working as a bus driver. However, he has become extremely popular amongst the city's residents. With so many passengers wanting to get aboard his bus, he sometimes has to face the problem of not enough space left on the bus! He wants you to write a simple program telling him if he will be able to fit all the passengers.\n",
    "\n",
    "#### Task Overview:\n",
    "\n",
    "You have to write a function that accepts three parameters:\n",
    "\n",
    "* `cap` is the amount of people the bus can hold excluding the driver.\n",
    "* `on` is the number of people on the bus.\n",
    "* `wait` is the number of people waiting to get on to the bus.\n",
    "\n",
    "If there is enough space, return 0, and if there isn't, return the number of passengers he can't take.\n",
    "\n",
    "#### Usage Examples:\n",
    "```\n",
    ">>> enough(10, 5, 5)\n",
    "0 # He can fit all 5 passengers\n",
    ">>> enough(100, 60, 50)\n",
    "10 # He can't fit 10 out of 50 waiting\n",
    "```\n",
    "Tags: Fundamentals Numbers"
   ]
  },
  {
   "cell_type": "code",
   "execution_count": null,
   "metadata": {},
   "outputs": [],
   "source": [
    "# Best Practice - didn't know about max\n",
    "def enough(cap, on, wait):\n",
    "    return max(0, wait - (cap - on))"
   ]
  },
  {
   "cell_type": "code",
   "execution_count": null,
   "metadata": {},
   "outputs": [],
   "source": [
    "# Final\n",
    "def enough(cap, on, wait):\n",
    "    if on + wait <= cap:\n",
    "        return 0\n",
    "    else:\n",
    "        return on + wait - cap"
   ]
  },
  {
   "cell_type": "code",
   "execution_count": null,
   "metadata": {},
   "outputs": [],
   "source": [
    "#This one worked\n",
    "def enough(cap, on, wait):\n",
    "    print('cap:', cap)\n",
    "    print('on:', on)\n",
    "    print('wait:', wait)\n",
    "    if on + wait <= cap: #Then everyone fits\n",
    "        print('result:', 0)\n",
    "        return 0\n",
    "    else:\n",
    "        print('result:', on - wait)\n",
    "        return abs(cap - (on + wait))"
   ]
  },
  {
   "cell_type": "markdown",
   "metadata": {},
   "source": [
    "#### Failed Tests\n",
    "\n",
    "Log\n",
    "cap: 83\n",
    "on 17\n",
    "wait 69\n",
    "result: -52\n",
    "-52 should equal 3\n",
    "test.assert_equals(enough(83, 17, 69), 3)\n",
    "Log\n",
    "cap: 72\n",
    "on 72\n",
    "wait 58\n",
    "result: 14\n",
    "14 should equal 58\n",
    "\n",
    "Log\n",
    "cap: 72\n",
    "on 55\n",
    "wait 18\n",
    "result: 37\n",
    "37 should equal 1\n",
    "\n",
    "Log\n",
    "cap: 73\n",
    "on 33\n",
    "wait 63\n",
    "result: -30\n",
    "-30 should equal 23\n",
    "\n",
    "Log\n",
    "cap: 85\n",
    "on 51\n",
    "wait 74\n",
    "result: -23\n",
    "-23 should equal 40\n",
    "\n",
    "Log\n",
    "cap: 52\n",
    "on 12\n",
    "wait 54\n",
    "result: -42\n",
    "-42 should equal 14\n",
    "\n",
    "Log\n",
    "cap: 69\n",
    "on 64\n",
    "wait 37\n",
    "result: 27\n",
    "27 should equal 32\n",
    "\n",
    "Log\n",
    "cap: 58\n",
    "on 58\n",
    "wait 19\n",
    "result: 39\n",
    "39 should equal 19\n",
    "\n",
    "Log\n",
    "cap: 51\n",
    "on 10\n",
    "wait 76\n",
    "result: -66\n",
    "-66 should equal 35\n",
    "\n",
    "Log\n",
    "cap: 93\n",
    "on 54\n",
    "wait 74\n",
    "result: -20\n",
    "-20 should equal 35\n",
    "\n",
    "Log\n",
    "cap: 78\n",
    "on 62\n",
    "wait 36\n",
    "result: 26\n",
    "26 should equal 20\n"
   ]
  },
  {
   "cell_type": "code",
   "execution_count": 3,
   "metadata": {},
   "outputs": [],
   "source": [
    "# This does not handle negative numbers\n",
    "def enough(cap, on, wait):\n",
    "    if on + wait <= cap:\n",
    "        return 0\n",
    "    else:\n",
    "        return on - wait"
   ]
  },
  {
   "cell_type": "code",
   "execution_count": 6,
   "metadata": {},
   "outputs": [
    {
     "name": "stdout",
     "output_type": "stream",
     "text": [
      "Example Tests\n",
      "1\n",
      "2\n",
      "3\n"
     ]
    },
    {
     "data": {
      "text/plain": [
       "True"
      ]
     },
     "execution_count": 6,
     "metadata": {},
     "output_type": "execute_result"
    }
   ],
   "source": [
    "class test:\n",
    "    def describe(x):\n",
    "        print(x)\n",
    "    def assert_equals(a, b):\n",
    "        if a == b:\n",
    "            print(T)\n",
    "            return True\n",
    "        else:\n",
    "            return False\n",
    "        \n",
    "test.describe('Example Tests')\n",
    "print(1)\n",
    "test.assert_equals(enough(10, 5, 5), 0)\n",
    "print(2)\n",
    "test.assert_equals(enough(100, 60, 50), 10)\n",
    "print(3)\n",
    "test.assert_equals(enough(20, 5, 5), 0)"
   ]
  }
 ],
 "metadata": {
  "kernelspec": {
   "display_name": "Python 3",
   "language": "python",
   "name": "python3"
  },
  "language_info": {
   "codemirror_mode": {
    "name": "ipython",
    "version": 3
   },
   "file_extension": ".py",
   "mimetype": "text/x-python",
   "name": "python",
   "nbconvert_exporter": "python",
   "pygments_lexer": "ipython3",
   "version": "3.7.2"
  }
 },
 "nbformat": 4,
 "nbformat_minor": 2
}
