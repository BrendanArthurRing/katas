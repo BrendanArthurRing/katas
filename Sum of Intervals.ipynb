{
 "cells": [
  {
   "cell_type": "markdown",
   "metadata": {},
   "source": [
    "## Sum of Intervals\n",
    "\n",
    "https://www.codewars.com/kata/sum-of-intervals/train/python\n",
    "\n",
    "Write a function called `sumIntervals`/`sum_intervals()` that accepts an array of intervals, and returns the sum of all the interval lengths. Overlapping intervals should only be counted once.\n",
    "Intervals\n",
    "\n",
    "Intervals are represented by a pair of integers in the form of an array. The first value of the interval will always be less than the second value. Interval example: `[1, 5]` is an interval from 1 to 5. The length of this interval is 4.\n",
    "Overlapping Intervals\n",
    "\n",
    "List containing overlapping intervals:\n",
    "\n",
    "```\n",
    "[\n",
    "   [1,4],\n",
    "   [7, 10],\n",
    "   [3, 5]\n",
    "]\n",
    "```\n",
    "\n",
    "The sum of the lengths of these intervals is 7. Since [1, 4] and [3, 5] overlap, we can treat the interval as [1, 5], which has a length of 4.\n",
    "Examples:\n",
    "\n",
    "```\n",
    "sumIntervals( [\n",
    "   [1,2],\n",
    "   [6, 10],\n",
    "   [11, 15]\n",
    "] ); // => 9\n",
    "\n",
    "sumIntervals( [\n",
    "   [1,4],\n",
    "   [7, 10],\n",
    "   [3, 5]\n",
    "] ); // => 7\n",
    "\n",
    "sumIntervals( [\n",
    "   [1,5],\n",
    "   [10, 20],\n",
    "   [1, 6],\n",
    "   [16, 19],\n",
    "   [5, 11]\n",
    "] ); // => 19\n",
    "```\n",
    "\n",
    "Algorithms | Aggregations | Arithmetic | Mathematics | Numbers | Integers"
   ]
  },
  {
   "cell_type": "code",
   "execution_count": 1,
   "metadata": {},
   "outputs": [],
   "source": [
    "def sum_of_intervals(intervals):\n",
    "    print(\"These are the intervals:\", intervals)\n",
    "    print(\"This is the first interval:\", intervals[0])\n",
    "    print(\"This is the fist number:\", intervals[0][0])\n",
    "    \n",
    "    # How many interval sets are passed?\n",
    "    interval_count = len(intervals)\n",
    "    print(\"The number of intervals is:\", interval_count)\n",
    "    \n",
    "    # If there is only one interval\n",
    "    if interval_count == 1:\n",
    "        pass\n",
    "    \n",
    "    # If there are many intervals\n",
    "    if interval_count >= 1:\n",
    "        pass\n",
    "    \n",
    "    \n",
    "    # Find the interval length between first and seccond number\n",
    "    interval_length = abs(intervals[0][0] - intervals[0][1])\n",
    "    print(\"The interval length is:\", interval_length)\n",
    "    return\n"
   ]
  },
  {
   "cell_type": "code",
   "execution_count": 2,
   "metadata": {},
   "outputs": [],
   "source": [
    "class Test:\n",
    "    def assert_equals(a,b):\n",
    "        if a == b:\n",
    "            return True\n",
    "        else:\n",
    "            return False"
   ]
  },
  {
   "cell_type": "code",
   "execution_count": 3,
   "metadata": {},
   "outputs": [
    {
     "name": "stdout",
     "output_type": "stream",
     "text": [
      "These are the intervals: [(1, 5)]\n",
      "This is the first interval: (1, 5)\n",
      "This is the fist number: 1\n",
      "The number of intervals is: 1\n",
      "The interval length is: 4\n",
      "These are the intervals: [(1, 5), (6, 10)]\n",
      "This is the first interval: (1, 5)\n",
      "This is the fist number: 1\n",
      "The number of intervals is: 2\n",
      "The interval length is: 4\n",
      "These are the intervals: [(1, 5), (1, 5)]\n",
      "This is the first interval: (1, 5)\n",
      "This is the fist number: 1\n",
      "The number of intervals is: 2\n",
      "The interval length is: 4\n",
      "These are the intervals: [(1, 4), (7, 10), (3, 5)]\n",
      "This is the first interval: (1, 4)\n",
      "This is the fist number: 1\n",
      "The number of intervals is: 3\n",
      "The interval length is: 3\n"
     ]
    },
    {
     "data": {
      "text/plain": [
       "False"
      ]
     },
     "execution_count": 3,
     "metadata": {},
     "output_type": "execute_result"
    }
   ],
   "source": [
    "Test.assert_equals(sum_of_intervals([(1, 5)]), 4)\n",
    "Test.assert_equals(sum_of_intervals([(1, 5), (6, 10)]), 8)\n",
    "Test.assert_equals(sum_of_intervals([(1, 5), (1, 5)]), 4)\n",
    "Test.assert_equals(sum_of_intervals([(1, 4), (7, 10), (3, 5)]), 7)"
   ]
  }
 ],
 "metadata": {
  "kernelspec": {
   "display_name": "Python 3",
   "language": "python",
   "name": "python3"
  },
  "language_info": {
   "codemirror_mode": {
    "name": "ipython",
    "version": 3
   },
   "file_extension": ".py",
   "mimetype": "text/x-python",
   "name": "python",
   "nbconvert_exporter": "python",
   "pygments_lexer": "ipython3",
   "version": "3.6.7"
  }
 },
 "nbformat": 4,
 "nbformat_minor": 2
}
