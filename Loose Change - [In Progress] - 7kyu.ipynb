{
 "cells": [
  {
   "cell_type": "markdown",
   "metadata": {},
   "source": [
    "### Loose Change!\n",
    "\n",
    "\n",
    "https://www.codewars.com/kata/57e1857d333d8e0f76002169/train/python\n",
    "\n",
    "You've been collecting change all day, and it's starting to pile up in your pocket, but you're too lazy to see how much you've found.\n",
    "\n",
    "Good thing you can code!\n",
    "\n",
    "Create `change_count()` to return a dollar amount of how much change you have!\n",
    "\n",
    "Valid types of change include:\n",
    "```\n",
    "penny: 0.01\n",
    "nickel: 0.05\n",
    "dime: 0.10\n",
    "quarter: 0.25\n",
    "dollar: 1.00\n",
    "```\n",
    "These amounts are already preloaded as floats into the `CHANGE` dictionary for you to use!\n",
    "\n",
    "You should return the total in the format `$x.xx`.\n",
    "\n",
    "Examples:\n",
    "```\n",
    "change_count('nickel penny dime dollar') == '$1.16'\n",
    "change_count('dollar dollar quarter dime dime') == '$2.45'\n",
    "change_count('penny') == '$0.01'\n",
    "change_count('dime') == '$0.10'\n",
    "```\n",
    "Warning, some change may amount to over $10.00!\n",
    "\n",
    "Tags: Fundamentals Basic Language Features"
   ]
  },
  {
   "cell_type": "code",
   "execution_count": null,
   "metadata": {},
   "outputs": [],
   "source": [
    "#Remember you have a CHANGE dictionary to work with ;)\n",
    "\n",
    "def change_count(change):\n",
    "    #Calculate Value Below!\n",
    "    return '$1.00'"
   ]
  },
  {
   "cell_type": "code",
   "execution_count": null,
   "metadata": {},
   "outputs": [],
   "source": [
    "class test:\n",
    "    def describe(x):\n",
    "        print(x)\n",
    "    def assert_equals(a, b):\n",
    "        if a == b:\n",
    "            print(T)\n",
    "            return True\n",
    "        else:\n",
    "            return False\n",
    "\n",
    "test.assert_equals(change_count('dime penny dollar'), '$1.11')\n",
    "test.assert_equals(change_count('dime penny nickel'), '$0.16')\n",
    "test.assert_equals(change_count('quarter quarter'), '$0.50')\n",
    "test.assert_equals(change_count('dollar penny dollar'), '$2.01')\n",
    "test.assert_equals(change_count('dollar dollar dollar dollar dollar dollar dollar dollar dollar dollar penny'), '$10.01')"
   ]
  }
 ],
 "metadata": {
  "kernelspec": {
   "display_name": "Python 3",
   "language": "python",
   "name": "python3"
  },
  "language_info": {
   "codemirror_mode": {
    "name": "ipython",
    "version": 3
   },
   "file_extension": ".py",
   "mimetype": "text/x-python",
   "name": "python",
   "nbconvert_exporter": "python",
   "pygments_lexer": "ipython3",
   "version": "3.7.2"
  }
 },
 "nbformat": 4,
 "nbformat_minor": 2
}
