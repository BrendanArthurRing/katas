{
 "cells": [
  {
   "cell_type": "markdown",
   "metadata": {},
   "source": [
    "## Merged String Checker - [Forfeit] 5kyu\n",
    "\n",
    "https://www.codewars.com/kata/54c9fcad28ec4c6e680011aa/train/python\n",
    "\n",
    "At a job interview, you are challenged to write an algorithm to check if a given string, `s`, can be formed from two other strings, `part1` and `part2`.\n",
    "\n",
    "The restriction is that the characters in `part1` and `part2` should be in the same order as in `s`.\n",
    "\n",
    "The interviewer gives you the following example and tells you to figure out the rest from the given test cases.\n",
    "\n",
    "For example:\n",
    "```\n",
    "'codewars' is a merge from 'cdw' and 'oears':\n",
    "\n",
    "    s:  c o d e w a r s   = codewars\n",
    "part1:  c   d   w         = cdw\n",
    "part2:    o   e   a r s   = oears\n",
    "```\n",
    "\n",
    "Tags: Algorithms Strings"
   ]
  },
  {
   "cell_type": "code",
   "execution_count": null,
   "metadata": {},
   "outputs": [],
   "source": [
    "# Best Practice\n",
    "def is_merge(s, part1, part2):\n",
    "    if not part1: # Checks if part1 is empty\n",
    "        return s == part2 # Returns True because part2 would = s\n",
    "    if not part2: # Checks if part2 is empty\n",
    "        return s == part1 # Returns True because part1 would = s\n",
    "    if not s: # Checks if s is empty\n",
    "        return part1 + part2 == '' # Returns True that part1 and part2 are ''\n",
    "    if s[0] == part1[0] and is_merge(s[1:], part1[1:], part2):\n",
    "        return True\n",
    "    if s[0] == part2[0] and is_merge(s[1:], part1, part2[1:]):\n",
    "        return True\n",
    "    return False"
   ]
  },
  {
   "cell_type": "code",
   "execution_count": null,
   "metadata": {},
   "outputs": [],
   "source": [
    "# Shortest Code\n",
    "is_merge=m=lambda s,x,y:not(s+x+y)or f(s,x,y)or f(s,y,x)\n",
    "f=lambda s,x,y:s and x and s[0]==x[0]and m(s[1:],x[1:],y)\n",
    "# Not sure how this works, lambda is still new to me"
   ]
  },
  {
   "cell_type": "code",
   "execution_count": 3,
   "metadata": {},
   "outputs": [
    {
     "data": {
      "text/plain": [
       "True"
      ]
     },
     "execution_count": 3,
     "metadata": {},
     "output_type": "execute_result"
    }
   ],
   "source": [
    "# Kata Code - Attempt3 - needs to handle extra characters\n",
    "def is_merge(s, part1, part2):\n",
    "    ts = part1 + part2\n",
    "    part1 = list(part1)\n",
    "    part2 = list(part2)\n",
    "    counter = 0\n",
    "    for i in s:\n",
    "        if part1 and i == part1[0]:\n",
    "            counter += 1\n",
    "            del(part1[0])\n",
    "        elif part2 and i == part2[0]:\n",
    "            counter += 1\n",
    "            del(part2[0])\n",
    "        else:\n",
    "            return False\n",
    "            #print(False)\n",
    "        #print(counter, len(s), len(ts))\n",
    "    #if counter == len(s) == len(ts):\n",
    "    if counter == len(s):\n",
    "        return True\n",
    "        #print(True)\n",
    "    else:\n",
    "        return True\n",
    "        #print(False)\n",
    "\n",
    "s = 'codewars'\n",
    "part1 = 'cdw'\n",
    "part2 = 'oears'\n",
    "is_merge(s, part1, part2)"
   ]
  },
  {
   "cell_type": "code",
   "execution_count": 5,
   "metadata": {},
   "outputs": [],
   "source": [
    "# Testing\n",
    "class Test:\n",
    "    def expect(expected):\n",
    "        if expected is True: return True\n",
    "# Basic Tests\n",
    "Test.expect(is_merge('codewars', 'code', 'wars'));\n",
    "Test.expect(is_merge('codewars', 'cdw', 'oears'));\n",
    "Test.expect(not is_merge('codewars', 'cod', 'wars'));\n",
    "\n",
    "# Can Handle Empty Parts\n",
    "\n",
    "\n",
    "# Can Handle Extra Characters\n",
    "Test.expect(is_merge('codewars', 'code', 'warss'));"
   ]
  },
  {
   "cell_type": "code",
   "execution_count": 62,
   "metadata": {},
   "outputs": [
    {
     "name": "stdout",
     "output_type": "stream",
     "text": [
      "False\n",
      "0 8 8\n",
      "1 8 8\n",
      "False\n",
      "1 8 8\n",
      "2 8 8\n",
      "False\n",
      "2 8 8\n",
      "3 8 8\n",
      "4 8 8\n",
      "5 8 8\n"
     ]
    }
   ],
   "source": [
    "# Kata Attempt 2 - not sure why this does not work\n",
    "def is_merge(s, part1, part2):\n",
    "    ts = part1 + part2\n",
    "    part1 = list(part1)\n",
    "    part1 = list(part2)\n",
    "    c = 0\n",
    "    for i in s:\n",
    "        if part1 and i == part1[0]:\n",
    "            del(part1[0])\n",
    "            c += 1\n",
    "        elif part2 and i == part2[0]:\n",
    "            del(part2[0])\n",
    "            c += 1\n",
    "        else:\n",
    "            print(False)\n",
    "        print(c, len(s), len(ts))\n",
    "    if c == len(s) == len(ts):\n",
    "        return True\n",
    "\n",
    "s = 'codewars'\n",
    "part1 = 'cdw'\n",
    "part2 = 'oears'\n",
    "is_merge(s, part1, part2)"
   ]
  },
  {
   "cell_type": "code",
   "execution_count": 56,
   "metadata": {},
   "outputs": [
    {
     "name": "stdout",
     "output_type": "stream",
     "text": [
      "1 8 8\n",
      "2 8 8\n",
      "3 8 8\n",
      "4 8 8\n",
      "5 8 8\n",
      "6 8 8\n",
      "7 8 8\n",
      "8 8 8\n",
      "True\n"
     ]
    }
   ],
   "source": [
    "# Sandbox 2\n",
    "s = 'codewars'\n",
    "part1 = 'cdw'\n",
    "part2 = 'oears'\n",
    "\n",
    "ts = part1 + part2\n",
    "part1 = list(part1)\n",
    "part2 = list(part2)\n",
    "counter = 0\n",
    "for i in s:\n",
    "    if part1 and i == part1[0]:\n",
    "        counter += 1\n",
    "        del(part1[0])\n",
    "    elif part2 and i == part2[0]:\n",
    "        counter += 1\n",
    "        del(part2[0])\n",
    "    else:\n",
    "        #return False\n",
    "        print(False)\n",
    "    print(counter, len(s), len(ts))\n",
    "if counter == len(s) == len(ts):\n",
    "    print(True)\n",
    "else:\n",
    "    print(False)"
   ]
  },
  {
   "cell_type": "code",
   "execution_count": 24,
   "metadata": {},
   "outputs": [
    {
     "name": "stdout",
     "output_type": "stream",
     "text": [
      "True\n",
      "[['a', 1], ['c', 1], ['d', 1], ['e', 1], ['o', 1], ['r', 1], ['s', 1], ['w', 1]]\n",
      "[['a', 1], ['c', 1], ['d', 1], ['e', 1], ['o', 1], ['r', 1], ['s', 1], ['w', 1]]\n",
      "True\n"
     ]
    },
    {
     "data": {
      "text/plain": [
       "\" \\nOLD CODE\\nprint(s.count('c'))\\ns_count = ()\\nfor i in s:\\n    s_count.append(s.count(i))\\nprint(s_count)\\n\""
      ]
     },
     "execution_count": 24,
     "metadata": {},
     "output_type": "execute_result"
    }
   ],
   "source": [
    "# Sandbox 1\n",
    "s = 'codewars'\n",
    "part1 = 'cdw'\n",
    "part2 = 'oears'\n",
    "# need to check if the counts and characters match s == p1 + p2\n",
    "# https://www.geeksforgeeks.org/python-count-occurrences-of-a-character-in-string/\n",
    "\n",
    "# Create Sub-String of Unique Characters\n",
    "# Use a set with set()\n",
    "s_set = set(s)\n",
    "t_string = part1 + part2\n",
    "t_set = set(t_string)\n",
    "\n",
    "print(s_set == t_set)\n",
    "\n",
    "\n",
    "# Initial Validation:\n",
    "# A unique set of s should equal a unique set of part1 + part2\n",
    "# Else not all letters needed are in part1 and part2\n",
    "# There could still be more/less occurances needed\n",
    "# This will be tested next\n",
    "\n",
    "\n",
    "# Check the Occurances\n",
    "s_occurance = []\n",
    "for i in s_set:\n",
    "    s_occurance.append([i, s.count(i)])\n",
    "s_occurance.sort()\n",
    "print(s_occurance)\n",
    "\n",
    "t_occurance = []\n",
    "for i in t_set:\n",
    "    t_occurance.append([i, t_string.count(i)])\n",
    "t_occurance.sort()\n",
    "print(t_occurance)\n",
    "\n",
    "print(s_occurance == t_occurance)\n",
    "\n",
    "''' \n",
    "OLD CODE\n",
    "print(s.count('c'))\n",
    "s_count = ()\n",
    "for i in s:\n",
    "    s_count.append(s.count(i))\n",
    "print(s_count)\n",
    "''' "
   ]
  },
  {
   "cell_type": "code",
   "execution_count": 33,
   "metadata": {},
   "outputs": [],
   "source": [
    "# Kata Code Attempt 1 - Does not flag out of order strings.\n",
    "def is_merge(s, part1, part2):\n",
    "    s_set = set(s)\n",
    "    t_string = part1 + part2\n",
    "    t_set = set(t_string)\n",
    "    if s_set != t_set: # Check if test set has all letters.\n",
    "        return False\n",
    "    s_occurance = []\n",
    "    t_occurance = []\n",
    "    for i in s_set:\n",
    "        s_occurance.append([i, s.count(i)])\n",
    "    for i in t_set:\n",
    "        t_occurance.append([i, t_string.count(i)])\n",
    "    s_occurance.sort()\n",
    "    t_occurance.sort()\n",
    "    if s_occurance != t_occurance:\n",
    "        return False\n",
    "    else:\n",
    "        return True"
   ]
  },
  {
   "cell_type": "code",
   "execution_count": 34,
   "metadata": {},
   "outputs": [
    {
     "data": {
      "text/plain": [
       "True"
      ]
     },
     "execution_count": 34,
     "metadata": {},
     "output_type": "execute_result"
    }
   ],
   "source": [
    "# Check the Method\n",
    "s = 'codewars'\n",
    "part1 = 'cdw'\n",
    "part2 = 'oears'\n",
    "\n",
    "is_merge(s, part1, part2)\n",
    "\n",
    "'''\n",
    "codewars can't be created from code and wasr\n",
    "codewars is not a merge of cwdr and oeas\n",
    "'''"
   ]
  },
  {
   "cell_type": "code",
   "execution_count": null,
   "metadata": {},
   "outputs": [],
   "source": []
  }
 ],
 "metadata": {
  "kernelspec": {
   "display_name": "Python 3",
   "language": "python",
   "name": "python3"
  },
  "language_info": {
   "codemirror_mode": {
    "name": "ipython",
    "version": 3
   },
   "file_extension": ".py",
   "mimetype": "text/x-python",
   "name": "python",
   "nbconvert_exporter": "python",
   "pygments_lexer": "ipython3",
   "version": "3.7.2"
  }
 },
 "nbformat": 4,
 "nbformat_minor": 2
}
